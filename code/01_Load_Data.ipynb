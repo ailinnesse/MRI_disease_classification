{
 "cells": [
  {
   "cell_type": "markdown",
   "id": "6ce590f3-a43a-4245-a1cc-86570339ad95",
   "metadata": {
    "tags": []
   },
   "source": [
    "# Load and prepare the images for EDA and Modeling"
   ]
  },
  {
   "cell_type": "markdown",
   "id": "34cf655e-a0e0-4989-8f69-f83c7b24a974",
   "metadata": {},
   "source": [
    "Make Dataframes from folders with images"
   ]
  },
  {
   "cell_type": "code",
   "execution_count": null,
   "id": "4b96ab03-377f-4dc1-93a4-00e68da28d4a",
   "metadata": {},
   "outputs": [],
   "source": []
  }
 ],
 "metadata": {
  "kernelspec": {
   "display_name": "Python 3 (ipykernel)",
   "language": "python",
   "name": "python3"
  },
  "language_info": {
   "codemirror_mode": {
    "name": "ipython",
    "version": 3
   },
   "file_extension": ".py",
   "mimetype": "text/x-python",
   "name": "python",
   "nbconvert_exporter": "python",
   "pygments_lexer": "ipython3",
   "version": "3.10.9"
  }
 },
 "nbformat": 4,
 "nbformat_minor": 5
}
