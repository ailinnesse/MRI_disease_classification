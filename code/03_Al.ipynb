{
 "cells": [
  {
   "cell_type": "code",
   "execution_count": null,
   "id": "7bcae6aa-e08b-4226-b0b7-29efec7411be",
   "metadata": {},
   "outputs": [],
   "source": []
  },
  {
   "cell_type": "code",
   "execution_count": null,
   "id": "4c6f8222-6bdd-4a0a-b915-9a50c3d78809",
   "metadata": {},
   "outputs": [],
   "source": []
  },
  {
   "cell_type": "code",
   "execution_count": null,
   "id": "43f01c7b-7d0c-4600-8326-54202af6c38c",
   "metadata": {},
   "outputs": [],
   "source": [
    "from tensorflow.keras.preprocessing.image import load_img, img_to_array, smart_resize"
   ]
  },
  {
   "cell_type": "code",
   "execution_count": null,
   "id": "d56eb0bc-78a5-4d8e-81f8-ecff9f257c19",
   "metadata": {},
   "outputs": [],
   "source": []
  },
  {
   "cell_type": "code",
   "execution_count": null,
   "id": "7d80d21e-c8c3-4728-b20b-d600cdae33c5",
   "metadata": {},
   "outputs": [],
   "source": []
  },
  {
   "cell_type": "code",
   "execution_count": null,
   "id": "06f6eaae-4770-4022-ac15-98b35c21c68e",
   "metadata": {},
   "outputs": [],
   "source": []
  },
  {
   "cell_type": "code",
   "execution_count": null,
   "id": "2bce8193-ee49-4284-a61c-ec6d194a64df",
   "metadata": {},
   "outputs": [],
   "source": []
  },
  {
   "cell_type": "code",
   "execution_count": null,
   "id": "048a2364-a201-4ab7-9fa5-7a2bdcb021cf",
   "metadata": {},
   "outputs": [],
   "source": [
    "model = Sequential()\n",
    "\n",
    "\n",
    "model.add(layers.Input(shape=(256, 256, 3)))\n",
    "model.add(layers.Rescaling(1./255))\n",
    "\n",
    "#First Convolution\n",
    "model.add(Conv2D(64, (3,3), activation='relu'))\n",
    "model.add(MaxPooling2D(pool_size=(2,2)))\n",
    "#Second Convolution\n",
    "model.add(Conv2D(64, (3,3), activation='relu'))\n",
    "model.add(MaxPooling2D(pool_size=(2,2)))\n",
    "#Flatten\n",
    "model.add(Flatten())\n",
    "# Fully Connected\n",
    "model.add(Dense(64, activation = 'relu'))\n",
    "model.add(Dense(1, activation='sigmoid'))\n",
    "\n",
    "# Compile\n",
    "model.compile(optimizer='adam',\n",
    "              loss='binary_crossentropy',\n",
    "              metrics=['accuracy'])"
   ]
  },
  {
   "cell_type": "code",
   "execution_count": null,
   "id": "8a1d292e-5589-4383-8b24-0cd8d8d02d9b",
   "metadata": {},
   "outputs": [],
   "source": []
  },
  {
   "cell_type": "code",
   "execution_count": null,
   "id": "4baa8abe-a2a7-480a-9358-2d8528c15a2c",
   "metadata": {},
   "outputs": [],
   "source": [
    "model.summary()"
   ]
  },
  {
   "cell_type": "code",
   "execution_count": null,
   "id": "db7a0098-2915-4b1d-bbb2-1d15c496e409",
   "metadata": {},
   "outputs": [],
   "source": [
    "h = model.fit(train_ds, validation_data = val_ds, epochs=5)"
   ]
  },
  {
   "cell_type": "code",
   "execution_count": null,
   "id": "c373af1d-6163-4a93-9979-45b483cef995",
   "metadata": {},
   "outputs": [],
   "source": [
    "model.predict(val_ds)"
   ]
  },
  {
   "cell_type": "code",
   "execution_count": null,
   "id": "5e51aa36-bca5-49b5-9565-1de8397678d6",
   "metadata": {},
   "outputs": [],
   "source": [
    "test_img = smart_resize(test_img, (256, 256))"
   ]
  },
  {
   "cell_type": "code",
   "execution_count": null,
   "id": "76f01193-2056-45c9-9723-5373db40b6c8",
   "metadata": {},
   "outputs": [],
   "source": [
    "model.predict(test_img)"
   ]
  },
  {
   "cell_type": "code",
   "execution_count": null,
   "id": "5697f3d1-35b0-47fb-bf21-0ff82b0454c1",
   "metadata": {},
   "outputs": [],
   "source": []
  },
  {
   "cell_type": "code",
   "execution_count": null,
   "id": "48fb9673-f848-46bc-9141-685beff2a6cd",
   "metadata": {},
   "outputs": [],
   "source": []
  }
 ],
 "metadata": {
  "kernelspec": {
   "display_name": "Python 3 (ipykernel)",
   "language": "python",
   "name": "python3"
  },
  "language_info": {
   "codemirror_mode": {
    "name": "ipython",
    "version": 3
   },
   "file_extension": ".py",
   "mimetype": "text/x-python",
   "name": "python",
   "nbconvert_exporter": "python",
   "pygments_lexer": "ipython3",
   "version": "3.10.9"
  }
 },
 "nbformat": 4,
 "nbformat_minor": 5
}
