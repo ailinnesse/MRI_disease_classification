{
 "cells": [
  {
   "cell_type": "markdown",
   "id": "e65eded0-d5e4-4b7b-9f20-fca796d7fa2b",
   "metadata": {},
   "source": [
    "# Classifaing both Alzheimer's and Brain Tumor "
   ]
  },
  {
   "cell_type": "markdown",
   "id": "524a8ed9-d3cf-4da3-a101-4ddb4b0af48b",
   "metadata": {},
   "source": [
    "I will build step by step model to evaluate the MRI Images and find Alzheimer's disease severity, type of Brain tumor on no disease"
   ]
  },
  {
   "cell_type": "code",
   "execution_count": 51,
   "id": "d4c7366e-686b-4f42-91b7-dd080950c7ba",
   "metadata": {},
   "outputs": [],
   "source": [
    "import matplotlib.pyplot as plt\n",
    "import numpy as np\n",
    "import os\n",
    "import pandas as pd\n",
    "\n",
    "from tensorflow.keras.layers import Dense, Dropout, Flatten, Conv2D, MaxPooling2D\n",
    "from tensorflow.keras.models import Sequential\n",
    "from tensorflow.keras.preprocessing import image_dataset_from_directory\n",
    "from tensorflow.keras import layers\n",
    "\n",
    "from tensorflow.keras.utils import load_img, img_to_array\n",
    "from tensorflow.keras.callbacks import EarlyStopping\n",
    "from sklearn.model_selection import train_test_split\n",
    "\n",
    "import functions\n",
    "\n",
    "# For reproducibility\n",
    "np.random.seed(18)"
   ]
  },
  {
   "cell_type": "markdown",
   "id": "a1ded1ee-1638-464a-ac7d-b0a304140d4d",
   "metadata": {
    "tags": []
   },
   "source": [
    "### Functions"
   ]
  },
  {
   "cell_type": "code",
   "execution_count": 56,
   "id": "d61db520-2d74-4d1a-b09e-70f7008a8410",
   "metadata": {},
   "outputs": [],
   "source": [
    "def load_img_from_dir_cat(path):\n",
    "    '''\n",
    "    '''\n",
    "    X = []\n",
    "    y = []\n",
    "\n",
    "    for num_label, label in enumerate(listdir(path)):\n",
    "        # Skip No disease folders\n",
    "        if label in ('NonDemented', 'no_tumor'):\n",
    "            continue\n",
    "        else:\n",
    "            # Change each image and append to X and y\n",
    "            for image_file in os.listdir(f'{path}/{label}'):\n",
    "                 if '.jpg' in image_file:\n",
    "                    # target_size automatically resizes each img on import\n",
    "                    image = load_img(f'{path}/{label}/{image_file}', color_mode = 'grayscale', target_size=(256, 256))\n",
    "                    image = img_to_array(image) / 255\n",
    "                    X.append(image)\n",
    "                    y.append(num_label) \n",
    "        # For training the model\n",
    "    if 'train' in path:\n",
    "        X_train, X_val, y_train, y_val = train_test_split(X, y, random_state=18, stratify=y) \n",
    "        \n",
    "        # Change for TensorFlow models\n",
    "        X_train = np.array(X_train, dtype='float32')\n",
    "        X_val = np.array(X_val, dtype='float32')\n",
    "\n",
    "        y_train = to_categorical(y_train, num_classes=4, dtype='float32')\n",
    "        y_val = to_categorical(y_val, num_classes=4, dtype='float32')\n",
    "\n",
    "        return X_train, X_val, y_train, y_val\n",
    "    # For testing\n",
    "    else:\n",
    "        X_test = np.array(X, dtype='float32')\n",
    "        y_test = to_categorical(y, num_classes=4, dtype='float32')\n",
    "        return X_test, y_test"
   ]
  },
  {
   "cell_type": "code",
   "execution_count": 57,
   "id": "3e91d1a2-2a01-40bf-af9e-08d64bf5591e",
   "metadata": {
    "tags": []
   },
   "outputs": [],
   "source": [
    "def load_img_from_dir_binary(path):\n",
    "    '''\n",
    "    '''\n",
    "    X = []\n",
    "    y = []\n",
    "\n",
    "    for label in listdir(path):\n",
    "        # Change each image and append to X and y\n",
    "        for image_file in os.listdir(f'{path}/{label}'):\n",
    "             if '.jpg' in image_file:\n",
    "                # target_size automatically resizes each img on import\n",
    "                image = load_img(f'{path}/{label}/{image_file}', color_mode = 'grayscale', target_size=(256, 256))\n",
    "                image = img_to_array(image) / 255\n",
    "                X.append(image)\n",
    "                if label in ('NonDemented', 'no_tumor'):\n",
    "                    y.append(0)\n",
    "                else:\n",
    "                    y.append(1)\n",
    "    return X, y"
   ]
  },
  {
   "cell_type": "code",
   "execution_count": 58,
   "id": "d7609b24-5a09-47be-a48a-60626a08816d",
   "metadata": {
    "tags": []
   },
   "outputs": [],
   "source": [
    "def al_bt_load_img_from_dir_binary(path):\n",
    "    '''\n",
    "    '''\n",
    "    X = []\n",
    "    y = []\n",
    "\n",
    "    for label in listdir(path):\n",
    "        # Skip No disease folders\n",
    "        if label in ('NonDemented', 'no_tumor'):\n",
    "            # Change each image and append to X and y\n",
    "            for image_file in os.listdir(f'{path}/{label}'):\n",
    "                 if '.jpg' in image_file:\n",
    "                    # target_size automatically resizes each img on import\n",
    "                    image = load_img(f'{path}/{label}/{image_file}', color_mode = 'grayscale', target_size=(256, 256))\n",
    "                    image = img_to_array(image) / 255\n",
    "                    X.append(image)\n",
    "                    if 'alzheimer' in path:\n",
    "                        y.append(0)\n",
    "                    else:\n",
    "                        y.append(1)\n",
    "    return X, y"
   ]
  },
  {
   "cell_type": "code",
   "execution_count": 59,
   "id": "4e610669-76eb-41fe-a0ab-9467f0c94dcd",
   "metadata": {
    "tags": []
   },
   "outputs": [],
   "source": [
    "def combine_images_from_two_path_binary(path1, path2, function = load_img_from_dir_binary):\n",
    "    X_1, y_1 = function(path1)\n",
    "    X_2, y_2 = function(path2)\n",
    "    \n",
    "    X = X_1 + X_2\n",
    "    y = y_1 + y_2\n",
    "    if 'train' in path1:\n",
    "        X_train, X_val, y_train, y_val = train_test_split(X, y, random_state=18, stratify=y) \n",
    "        X_train = np.array(X_train, dtype='float32')\n",
    "        X_val = np.array(X_val, dtype='float32')\n",
    "        y_train = np.array(y_train, dtype='float32')\n",
    "        y_val = np.array(y_val, dtype='float32')\n",
    "        return X_train, X_val, y_train, y_val\n",
    "    else:\n",
    "        X_test = np.array(X, dtype='float32')\n",
    "        y_test = np.array(y, dtype='float32')\n",
    "        return X_test, y_test"
   ]
  },
  {
   "cell_type": "code",
   "execution_count": 61,
   "id": "aaa88f17-c205-41bc-8063-ccf76c90241a",
   "metadata": {
    "tags": []
   },
   "outputs": [],
   "source": [
    "es = EarlyStopping(patience = 5, restore_best_weights=True)"
   ]
  },
  {
   "cell_type": "code",
   "execution_count": 60,
   "id": "95ff29d8-e08d-4416-ba48-8dbed116193a",
   "metadata": {},
   "outputs": [],
   "source": [
    "# Path to Alzheimer's data\n",
    "al_path_train = '../data/alzheimer/train'\n",
    "al_path_test = '../data/alzheimer/test'\n",
    "\n",
    "# Path to Brain Tumor data\n",
    "bt_path_train = '../data/brain_tumor/train'\n",
    "bt_path_test = '../data/brain_tumor/test'"
   ]
  },
  {
   "cell_type": "markdown",
   "id": "bf589d83-13c8-4794-b9b6-bef28eb734c7",
   "metadata": {
    "tags": []
   },
   "source": [
    "## Make Binary data Disease - No disease\n",
    "Combine datasets and make binary data - disease - 1, no disease - 0"
   ]
  },
  {
   "cell_type": "code",
   "execution_count": 62,
   "id": "743fcf2e-ce78-495b-8776-e6cf82e25be7",
   "metadata": {
    "tags": []
   },
   "outputs": [],
   "source": [
    "X_train, X_val, y_train, y_val = combine_images_from_two_path_binary(al_path_train, bt_path_train)"
   ]
  },
  {
   "cell_type": "code",
   "execution_count": 63,
   "id": "16123a7b-1e6a-4e62-89aa-5c963b58562f",
   "metadata": {
    "tags": []
   },
   "outputs": [
    {
     "data": {
      "text/plain": [
       "((5993, 256, 256, 1), (5993,))"
      ]
     },
     "execution_count": 63,
     "metadata": {},
     "output_type": "execute_result"
    }
   ],
   "source": [
    "X_train.shape, y_train.shape"
   ]
  },
  {
   "cell_type": "code",
   "execution_count": 64,
   "id": "1e170436-4e33-4b0a-9d9b-b02a7b20ee29",
   "metadata": {
    "tags": []
   },
   "outputs": [],
   "source": [
    "X_test, y_test = combine_images_from_two_path_binary(al_path_test, bt_path_test)"
   ]
  },
  {
   "cell_type": "code",
   "execution_count": 67,
   "id": "ea1a1f66-ec4f-4594-8459-76dad3ab8dfb",
   "metadata": {
    "tags": []
   },
   "outputs": [
    {
     "data": {
      "text/plain": [
       "((1998, 256, 256, 1), (1998,))"
      ]
     },
     "execution_count": 67,
     "metadata": {},
     "output_type": "execute_result"
    }
   ],
   "source": [
    "X_val.shape, y_val.shape"
   ]
  },
  {
   "cell_type": "code",
   "execution_count": 41,
   "id": "66b83d1f-4a9b-4313-83fd-0b95fcbfe6c3",
   "metadata": {
    "tags": []
   },
   "outputs": [],
   "source": [
    "model = Sequential()\n",
    "\n",
    "\n",
    "model.add(layers.Input(shape=(256, 256, 1)))\n",
    "\n",
    "#First Convolution\n",
    "model.add(Conv2D(64, (3,3), activation='relu'))\n",
    "model.add(MaxPooling2D(pool_size=(2,2)))\n",
    "#Second Convolution\n",
    "model.add(Conv2D(64, (3,3), activation='relu'))\n",
    "model.add(MaxPooling2D(pool_size=(2,2)))\n",
    "#Flatten\n",
    "model.add(Flatten())\n",
    "# Fully Connected\n",
    "model.add(Dense(64, activation = 'relu'))\n",
    "model.add(Dropout(0.2))\n",
    "model.add(Dense(1, activation='sigmoid'))\n",
    "\n",
    "# Compile\n",
    "model.compile(optimizer='adam',\n",
    "              loss='binary_crossentropy',\n",
    "              metrics=['accuracy'])"
   ]
  },
  {
   "cell_type": "code",
   "execution_count": 46,
   "id": "6f588862-0c2f-4444-b861-7ee38b2e75bb",
   "metadata": {
    "tags": []
   },
   "outputs": [
    {
     "name": "stdout",
     "output_type": "stream",
     "text": [
      "Epoch 1/50\n",
      "188/188 [==============================] - 765s 4s/step - loss: 0.5800 - accuracy: 0.7018 - val_loss: 0.4960 - val_accuracy: 0.7142\n",
      "Epoch 2/50\n",
      "188/188 [==============================] - 797s 4s/step - loss: 0.3850 - accuracy: 0.8158 - val_loss: 0.3453 - val_accuracy: 0.8313\n",
      "Epoch 3/50\n",
      "188/188 [==============================] - 758s 4s/step - loss: 0.2264 - accuracy: 0.9067 - val_loss: 0.2538 - val_accuracy: 0.9009\n",
      "Epoch 4/50\n",
      "188/188 [==============================] - 800s 4s/step - loss: 0.1276 - accuracy: 0.9549 - val_loss: 0.1936 - val_accuracy: 0.9339\n",
      "Epoch 5/50\n",
      "188/188 [==============================] - 771s 4s/step - loss: 0.0732 - accuracy: 0.9740 - val_loss: 0.1655 - val_accuracy: 0.9605\n",
      "Epoch 6/50\n",
      "188/188 [==============================] - 773s 4s/step - loss: 0.0366 - accuracy: 0.9900 - val_loss: 0.1639 - val_accuracy: 0.9635\n",
      "Epoch 7/50\n",
      "188/188 [==============================] - 765s 4s/step - loss: 0.0217 - accuracy: 0.9933 - val_loss: 0.2025 - val_accuracy: 0.9575\n",
      "Epoch 8/50\n",
      "188/188 [==============================] - 750s 4s/step - loss: 0.0256 - accuracy: 0.9917 - val_loss: 0.1836 - val_accuracy: 0.9710\n",
      "Epoch 9/50\n",
      "188/188 [==============================] - 765s 4s/step - loss: 0.0185 - accuracy: 0.9940 - val_loss: 0.1560 - val_accuracy: 0.9715\n",
      "Epoch 10/50\n",
      "188/188 [==============================] - 753s 4s/step - loss: 0.0099 - accuracy: 0.9975 - val_loss: 0.1747 - val_accuracy: 0.9715\n",
      "Epoch 11/50\n",
      "188/188 [==============================] - 771s 4s/step - loss: 0.0047 - accuracy: 0.9992 - val_loss: 0.2027 - val_accuracy: 0.9705\n",
      "Epoch 12/50\n",
      "188/188 [==============================] - 735s 4s/step - loss: 0.0048 - accuracy: 0.9982 - val_loss: 0.1927 - val_accuracy: 0.9730\n",
      "Epoch 13/50\n",
      "188/188 [==============================] - 373s 2s/step - loss: 0.0122 - accuracy: 0.9960 - val_loss: 0.2409 - val_accuracy: 0.9695\n",
      "Epoch 14/50\n",
      "188/188 [==============================] - 526s 3s/step - loss: 0.0157 - accuracy: 0.9943 - val_loss: 0.2102 - val_accuracy: 0.9690\n"
     ]
    }
   ],
   "source": [
    "h = model.fit(X_train, y_train, validation_data = (X_val, y_val), epochs=50, callbacks = [es])"
   ]
  },
  {
   "cell_type": "code",
   "execution_count": 49,
   "id": "71d0b0eb-fdb7-47b5-bba7-d83e8e14a29a",
   "metadata": {
    "tags": []
   },
   "outputs": [],
   "source": [
    "model.save('../models/model_d_nd.hdf5')"
   ]
  },
  {
   "cell_type": "code",
   "execution_count": 52,
   "id": "9aa4a53e-ea6d-4523-80e1-6ba36154e549",
   "metadata": {
    "tags": []
   },
   "outputs": [
    {
     "data": {
      "image/png": "[encoded data removed]",
      "text/plain": [
       "<Figure size 1400x700 with 2 Axes>"
      ]
     },
     "metadata": {},
     "output_type": "display_data"
    }
   ],
   "source": [
    "# Plot Crossentropy and Accuracy by epoch\n",
    "functions.evaluation_plots(h, 'Disease and No Disease classification')"
   ]
  },
  {
   "cell_type": "code",
   "execution_count": 91,
   "id": "f6bdc67e-d995-45c8-ae41-3f8b0421a596",
   "metadata": {
    "tags": []
   },
   "outputs": [],
   "source": [
    "def acc_conf_matrix(model, val_data=None, X=None, y=None, class_names_list = None, binary = False):\n",
    "    '''\n",
    "    '''\n",
    "    # Generate Confusion Matrix\n",
    "    predictions = np.array([])\n",
    "    labels =  np.array([])\n",
    "    if val_data == None:\n",
    "        if binary:\n",
    "            predictions = (model.predict(X, verbose = False) > 0.5).astype(\"int32\")\n",
    "            labels = y  \n",
    "        else:\n",
    "            predictions = np.concatenate([predictions, model.predict(X, verbose = False).argmax(axis=1)])\n",
    "            labels = np.concatenate([labels, np.argmax(y, axis=-1)])\n",
    "\n",
    "    else:\n",
    "        for x, y in val_data:\n",
    "            predictions = np.concatenate([predictions, model.predict(x, verbose = False).argmax(axis=1)])\n",
    "            labels = np.concatenate([labels, np.argmax(y.numpy(), axis=-1)])\n",
    "    cm = confusion_matrix(labels=labels, predictions=predictions).numpy()\n",
    "    # Print Accuracy score\n",
    "    acc = round(accuracy_score(labels, predictions), 4)\n",
    "    print(f'Accuracy_score: {acc} \\n') \n",
    "    # Plot the confusion matrix\n",
    "    if class_names_list:\n",
    "        fig, ax = plot_confusion_matrix(cm, class_names=class_names_list)    \n",
    "    else:\n",
    "        fig, ax = plot_confusion_matrix(cm, class_names=val_data.class_names)   "
   ]
  },
  {
   "cell_type": "code",
   "execution_count": 88,
   "id": "fd81adbc-2b13-41a0-9528-fc00f686a9de",
   "metadata": {
    "tags": []
   },
   "outputs": [
    {
     "name": "stdout",
     "output_type": "stream",
     "text": [
      "Accuracy_score: 0.9715 \n",
      "\n"
     ]
    },
    {
     "data": {
      "image/png": "[encoded data removed]",
      "text/plain": [
       "<Figure size 640x480 with 1 Axes>"
      ]
     },
     "metadata": {},
     "output_type": "display_data"
    }
   ],
   "source": [
    "# Plot Confusion Matrix \n",
    "acc_conf_matrix(model, X=X_val, y=y_val, class_names_list =  ['No Disease', 'Disease'], binary = True)"
   ]
  },
  {
   "cell_type": "code",
   "execution_count": 92,
   "id": "cf057185-a751-4762-9e4f-af1a31a55c0a",
   "metadata": {
    "tags": []
   },
   "outputs": [
    {
     "name": "stdout",
     "output_type": "stream",
     "text": [
      "Accuracy_score: 0.7077 \n",
      "\n"
     ]
    },
    {
     "data": {
      "image/png": "[encoded data removed]",
      "text/plain": [
       "<Figure size 640x480 with 1 Axes>"
      ]
     },
     "metadata": {},
     "output_type": "display_data"
    }
   ],
   "source": [
    "# Plot Confusion Matrix \n",
    "acc_conf_matrix(model, X=X_test, y=y_test, class_names_list =  ['No Disease', 'Disease'], binary = True)"
   ]
  },
  {
   "cell_type": "code",
   "execution_count": null,
   "id": "1d695fa1-2f51-4804-9041-2278de887fe0",
   "metadata": {},
   "outputs": [],
   "source": []
  },
  {
   "cell_type": "markdown",
   "id": "4ee54b44-0f10-4080-99ad-b50669f368c1",
   "metadata": {
    "tags": []
   },
   "source": [
    "## Make Binary data Alzheimer's - Brain tumor\n",
    "Combine datasets, ignoring No disease images and make binary data - Alzheimer's  - 0, Brain tumor - 1"
   ]
  },
  {
   "cell_type": "code",
   "execution_count": 93,
   "id": "d696d935-d01b-4af3-b25f-a031091f2e88",
   "metadata": {
    "tags": []
   },
   "outputs": [],
   "source": [
    "X_train_al_bt, X_val_al_bt, y_train_al_bt, y_val_al_bt = combine_images_from_two_path_binary(al_path_train, bt_path_train, function = al_bt_load_img_from_dir_binary)"
   ]
  },
  {
   "cell_type": "code",
   "execution_count": null,
   "id": "829c770f-78b2-4f6a-91e9-c743ec2d8816",
   "metadata": {
    "tags": []
   },
   "outputs": [],
   "source": [
    "X_train_al_bt.shape, y_train_al_bt.shape"
   ]
  },
  {
   "cell_type": "code",
   "execution_count": null,
   "id": "7f1ba685-1e04-4bf6-a25e-66c17f4694ab",
   "metadata": {
    "tags": []
   },
   "outputs": [],
   "source": [
    "X_test_al_bt, y_test_al_bt = combine_images_from_two_path_binary(al_path_test, bt_path_test, function = al_bt_load_img_from_dir_binary)"
   ]
  },
  {
   "cell_type": "code",
   "execution_count": null,
   "id": "24e80e62-27fd-4628-8cd1-ba39db3d0c6e",
   "metadata": {
    "tags": []
   },
   "outputs": [],
   "source": [
    "model_al_bt = Sequential()\n",
    "\n",
    "\n",
    "model_al_bt.add(layers.Input(shape=(256, 256, 1)))\n",
    "\n",
    "#First Convolution\n",
    "model_al_bt.add(Conv2D(64, (3,3), activation='relu'))\n",
    "model_al_bt.add(MaxPooling2D(pool_size=(2,2)))\n",
    "#Second Convolution\n",
    "model_al_bt.add(Conv2D(64, (3,3), activation='relu'))\n",
    "model_al_bt.add(MaxPooling2D(pool_size=(2,2)))\n",
    "#Flatten\n",
    "model_al_bt.add(Flatten())\n",
    "# Fully Connected\n",
    "model_al_bt.add(Dense(64, activation = 'relu'))\n",
    "model_al_bt.add(Dropout(0.2))\n",
    "model_al_bt.add(Dense(1, activation='sigmoid'))\n",
    "\n",
    "# Compile\n",
    "model_al_bt.compile(optimizer='adam',\n",
    "              loss='binary_crossentropy',\n",
    "              metrics=['accuracy'])\n",
    "\n",
    "h_al_bt = model_al_bt.fit(X_train_al_bt, y_train_al_bt, validation_data = (X_val_al_bt, y_val_al_bt), epochs=50, callbacks = [es])"
   ]
  },
  {
   "cell_type": "code",
   "execution_count": null,
   "id": "f9b5ec85-fb97-4181-a841-0c685fca99a9",
   "metadata": {},
   "outputs": [],
   "source": [
    "# Plot Crossentropy and Accuracy by epoch\n",
    "functions.evaluation_plots(h_al_bt, 'Alzheimer\\'s and Brain Tumor classification')"
   ]
  },
  {
   "cell_type": "code",
   "execution_count": null,
   "id": "4c1ff5e8-70dc-445d-ab43-7910ba864c81",
   "metadata": {},
   "outputs": [],
   "source": [
    "# Plot Confusion Matrix \n",
    "functions.acc_conf_matrix(model_al_bt, X=X_val_al_bt, y=y_val_al_bt, class_names_list =  ['Alzheimer\\'s', 'Brain Tumor'])"
   ]
  },
  {
   "cell_type": "code",
   "execution_count": null,
   "id": "202c9f69-832f-4e47-8c49-a84868a5fe63",
   "metadata": {},
   "outputs": [],
   "source": [
    "# Plot Confusion Matrix \n",
    "functions.acc_conf_matrix(model_al_bt, X=X_test_al_bt, y=y_test_al_bt, class_names_list =  ['Alzheimer\\'s', 'Brain Tumor'])"
   ]
  },
  {
   "cell_type": "code",
   "execution_count": null,
   "id": "80c880c7-33b2-4035-9c95-c1fb5dc59e35",
   "metadata": {},
   "outputs": [],
   "source": []
  },
  {
   "cell_type": "markdown",
   "id": "54324191-4842-4689-969f-8952f1b5c706",
   "metadata": {},
   "source": [
    "## Predict Sevetiry of Alzeimer's or Type of Brain Tumor"
   ]
  },
  {
   "cell_type": "markdown",
   "id": "f2415658-5d1c-4628-af66-27f4b2a8cb7b",
   "metadata": {},
   "source": [
    "### Sevetiry of Alzeimer's"
   ]
  },
  {
   "cell_type": "code",
   "execution_count": null,
   "id": "28e10baa-b4aa-49a0-818e-416fc3a8a6eb",
   "metadata": {},
   "outputs": [],
   "source": [
    "X_train_al, X_val_al, y_train_al, y_val_al = load_img_from_dir_cat(al_path_train)"
   ]
  },
  {
   "cell_type": "code",
   "execution_count": null,
   "id": "b4083b45-37d4-4ca4-b99b-d710dc3e86ad",
   "metadata": {},
   "outputs": [],
   "source": [
    "X_test_al, y_test_al = load_img_from_dir_cat(al_path_test)"
   ]
  },
  {
   "cell_type": "code",
   "execution_count": null,
   "id": "0362b438-68eb-457b-862c-0485af2bfc6c",
   "metadata": {},
   "outputs": [],
   "source": [
    "model_al = Sequential()\n",
    "\n",
    "\n",
    "model_al.add(layers.Input(shape=(image_size, image_size, 1)))\n",
    "model_al.add(layers.Rescaling(1./255))\n",
    "\n",
    "#First Convolution\n",
    "model_al.add(Conv2D(64, (3,3), activation='relu'))\n",
    "model_al.add(MaxPooling2D(pool_size=(2,2)))\n",
    "#Second Convolution\n",
    "model_al.add(Conv2D(64, (3,3), activation='relu'))\n",
    "model_al.add(MaxPooling2D(pool_size=(2,2)))\n",
    "#Flatten\n",
    "model_al.add(Flatten())\n",
    "# Fully Connected\n",
    "model_al.add(Dense(64, activation = 'relu'))\n",
    "model_al.add(Dense(3, activation='softmax'))\n",
    "\n",
    "# Compile\n",
    "model_al.compile(optimizer='adam',\n",
    "              loss='categorical_crossentropy',\n",
    "              metrics=['accuracy'])\n",
    "\n",
    "h_al = model_al.fit(X_train_al, y_train_al, validation_data = (X_val_al, y_val_al), epochs=50, callbacks = [es])"
   ]
  },
  {
   "cell_type": "code",
   "execution_count": null,
   "id": "bac0d97e-a378-4140-94d9-097619ed3666",
   "metadata": {},
   "outputs": [],
   "source": [
    "# Plot Crossentropy and Accuracy by epoch\n",
    "functions.evaluation_plots(h_al, 'Alzheimer\\'s severity classification')"
   ]
  },
  {
   "cell_type": "code",
   "execution_count": null,
   "id": "0a5d3102-8ab4-4b04-ba95-ee7f64fb6312",
   "metadata": {},
   "outputs": [],
   "source": [
    "# Plot Confusion Matrix \n",
    "functions.acc_conf_matrix(model_al, X=X_val_al, y=y_val_al, class_names_list = ['Mild', 'Moderate', 'Very Mild'])"
   ]
  },
  {
   "cell_type": "code",
   "execution_count": null,
   "id": "1688a42e-db98-4ff1-9e2b-378eacfba66b",
   "metadata": {},
   "outputs": [],
   "source": [
    "# Plot Confusion Matrix \n",
    "functions.acc_conf_matrix(model_al, X=X_test_al, y=y_test_al, class_names_list = ['Mild', 'Moderate', 'Very Mild'])"
   ]
  },
  {
   "cell_type": "code",
   "execution_count": null,
   "id": "e8f91ef7-dcb8-4e03-af9b-7f1d509fde4a",
   "metadata": {},
   "outputs": [],
   "source": []
  },
  {
   "cell_type": "markdown",
   "id": "cc36c761-c945-43b4-8330-afcd8a0d43bf",
   "metadata": {},
   "source": [
    "### Type of Brain Tumor"
   ]
  },
  {
   "cell_type": "code",
   "execution_count": null,
   "id": "c6370ebf-504d-4f77-8de1-a3283fed35c0",
   "metadata": {},
   "outputs": [],
   "source": [
    "X_train_bt, X_val_bt, y_train_bt, y_val_bt = load_img_from_dir_cat(bt_path_train)"
   ]
  },
  {
   "cell_type": "code",
   "execution_count": null,
   "id": "d557e00f-23c9-4e19-be4d-d0f379eab7c5",
   "metadata": {},
   "outputs": [],
   "source": [
    "X_test_bt, y_test_bt = load_img_from_dir_cat(bt_path_test)"
   ]
  },
  {
   "cell_type": "code",
   "execution_count": null,
   "id": "d02f2c84-6b4a-4a2a-a2a2-5e08ea624901",
   "metadata": {},
   "outputs": [],
   "source": [
    "model_bt = Sequential()\n",
    "model_bt.add(layers.Input(shape=(image_size, image_size, 1)))\n",
    "model_bt.add(layers.Rescaling(1./255))\n",
    "model_bt.add(Conv2D(64,kernel_size = (2,2),strides = (1,1),activation = 'relu'))\n",
    "model_bt.add(MaxPooling2D(pool_size = (2,2),strides = (2,2)))\n",
    "model_bt.add(Conv2D(64,kernel_size = (2,2),strides = (1,1),activation = 'relu'))\n",
    "model_bt.add(MaxPooling2D(pool_size = (2,2),strides = (2,2)))\n",
    "model_bt.add(Conv2D(128,kernel_size = (2,2),strides = (1,1),activation = 'relu'))\n",
    "model_bt.add(MaxPooling2D(pool_size = (2,2),strides = (2,2)))\n",
    "model_bt.add(Conv2D(256,kernel_size = (2,2),strides = (1,1),activation = 'relu'))\n",
    "model_bt.add(MaxPooling2D(pool_size = (2,2),strides = (2,2)))\n",
    "model_bt.add(Conv2D(512,kernel_size = (2,2),strides = (1,1),activation = 'relu'))\n",
    "model_bt.add(MaxPooling2D(pool_size = (2,2),strides = (2,2)))\n",
    "model_bt.add(Flatten())\n",
    "model_bt.add(Dropout(0.2))\n",
    "model_bt.add(Dense(256, activation=\"linear\", kernel_regularizer=l2(0.005)))\n",
    "model_bt.add(Dropout(0.2))\n",
    "model_bt.add(Dense(256, activation=\"linear\", kernel_regularizer=l2(0.005)))\n",
    "model_bt.add(Dropout(0.2))\n",
    "model_bt.add(Dense(3, activation='softmax'))\n",
    "# Compile\n",
    "model_bt.compile(optimizer='adam',\n",
    "              loss='categorical_crossentropy',\n",
    "              metrics=['accuracy'])\n",
    "\n",
    "h_bt = model_bt.fit(X_train_bt, y_train_bt, validation_data = (X_val_bt, y_val_bt), epochs=50, callbacks = [es])"
   ]
  },
  {
   "cell_type": "code",
   "execution_count": null,
   "id": "d46112ce-b114-47ca-af69-4acc9b3381a3",
   "metadata": {},
   "outputs": [],
   "source": [
    "# Plot Crossentropy and Accuracy by epoch\n",
    "functions.evaluation_plots(h_bt, 'Brain Tumor types classification')"
   ]
  },
  {
   "cell_type": "code",
   "execution_count": null,
   "id": "9f67c72c-f4e3-4614-996b-6321cff571ae",
   "metadata": {},
   "outputs": [],
   "source": [
    "# Plot Confusion Matrix \n",
    "functions.acc_conf_matrix(model_bt, X=X_val_bt, y=y_val_bt, class_names_list = ['Glioma', 'Meningioma', 'Pituitary'])"
   ]
  },
  {
   "cell_type": "code",
   "execution_count": null,
   "id": "9c5c2fe7-5e6f-4695-8b78-a1f2374d295c",
   "metadata": {},
   "outputs": [],
   "source": [
    "# Plot Confusion Matrix \n",
    "functions.acc_conf_matrix(model_bt, X=X_test_bt, y=y_test_bt, class_names_list = ['Glioma', 'Meningioma', 'Pituitary'])"
   ]
  },
  {
   "cell_type": "code",
   "execution_count": null,
   "id": "6204028f-c416-44d7-a055-3f7104a301e3",
   "metadata": {},
   "outputs": [],
   "source": []
  },
  {
   "cell_type": "code",
   "execution_count": null,
   "id": "255e38b4-2606-4c64-b360-ac3025c145b3",
   "metadata": {},
   "outputs": [],
   "source": []
  },
  {
   "cell_type": "code",
   "execution_count": null,
   "id": "ef66cbb1-3c45-47a0-b877-302886fde916",
   "metadata": {},
   "outputs": [],
   "source": []
  },
  {
   "cell_type": "markdown",
   "id": "3d7e6580-3bb7-4eb9-a0ba-4880432b5fa6",
   "metadata": {},
   "source": [
    "## Combine all to classify a single input image"
   ]
  },
  {
   "cell_type": "code",
   "execution_count": null,
   "id": "21903e8e-3dbc-4a0f-8b56-98059f3db15f",
   "metadata": {},
   "outputs": [],
   "source": []
  },
  {
   "cell_type": "code",
   "execution_count": null,
   "id": "a72c3b73-0041-4f31-ba9a-9b7de647dd9c",
   "metadata": {},
   "outputs": [],
   "source": []
  },
  {
   "cell_type": "code",
   "execution_count": null,
   "id": "ff4f8686-822c-46c6-bb48-c6cda7ba1983",
   "metadata": {},
   "outputs": [],
   "source": []
  },
  {
   "cell_type": "code",
   "execution_count": null,
   "id": "953e276a-8b17-4e59-8bba-96d95e9c03b2",
   "metadata": {},
   "outputs": [],
   "source": []
  },
  {
   "cell_type": "code",
   "execution_count": null,
   "id": "811479e2-2844-4985-9119-0b349e1ac71d",
   "metadata": {},
   "outputs": [],
   "source": []
  }
 ],
 "metadata": {
  "kernelspec": {
   "display_name": "Python 3 (ipykernel)",
   "language": "python",
   "name": "python3"
  },
  "language_info": {
   "codemirror_mode": {
    "name": "ipython",
    "version": 3
   },
   "file_extension": ".py",
   "mimetype": "text/x-python",
   "name": "python",
   "nbconvert_exporter": "python",
   "pygments_lexer": "ipython3",
   "version": "3.10.9"
  }
 },
 "nbformat": 4,
 "nbformat_minor": 5
}
